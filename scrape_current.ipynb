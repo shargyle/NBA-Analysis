{
 "cells": [
  {
   "cell_type": "code",
   "execution_count": null,
   "metadata": {},
   "outputs": [],
   "source": [
    "import pandas as pd\n",
    "import requests\n",
    "from bs4 import BeautifulSoup\n",
    "from tqdm import tqdm\n",
    "import time"
   ]
  },
  {
   "cell_type": "code",
   "execution_count": null,
   "metadata": {},
   "outputs": [],
   "source": [
    "# get list of urls for players stats\n",
    "players_url = 'https://www.basketball-reference.com/players/'\n",
    "r = requests.get(players_url)\n",
    "bs = BeautifulSoup(r.text)\n",
    "r.ok"
   ]
  },
  {
   "cell_type": "code",
   "execution_count": null,
   "metadata": {},
   "outputs": [],
   "source": [
    "# get all last name directory links\n",
    "    # links found in 'ul' tag with 'page_index' class\n",
    "    # directory links will have a text with length 1 (e.g. \"A\")\n",
    "    # base url must be added to directory path\n",
    "letter_links = bs.find('ul', {'class': 'page_index'}).find_all('a')\n",
    "letter_links = ['https://www.basketball-reference.com' + link.get('href') for link in letter_links if len(link.text) == 1]\n",
    "print(len(letter_links))"
   ]
  },
  {
   "cell_type": "code",
   "execution_count": null,
   "metadata": {},
   "outputs": [],
   "source": [
    "# get all player links from last name directory links\n",
    "\n",
    "# initialize empty list of player links\n",
    "player_links = []\n",
    "\n",
    "# player links found in 'th' tag w/specific scope and class\n",
    "# active players with 'strong' tag\n",
    "# add base url\n",
    "for letter_link in letter_links:\n",
    "    time.sleep(2.5)\n",
    "    r = requests.get(letter_link)\n",
    "    bs = BeautifulSoup(r.text)\n",
    "    player_tags = bs.find('tbody').find_all('th', {'scope': 'row', 'class': 'left'})\n",
    "    player_links += ['https://www.basketball-reference.com' + player_tag.find('a').get('href') for player_tag in player_tags if player_tag.find('strong')]\n",
    "\n",
    "print(len(player_links))"
   ]
  },
  {
   "cell_type": "code",
   "execution_count": null,
   "metadata": {},
   "outputs": [],
   "source": [
    "# build dataframe of all players' stats by season\n",
    "\n",
    "# initialize empty list to which dfs will be appended\n",
    "appended_data = []\n",
    "\n",
    "for player_link in tqdm(player_links):\n",
    "\n",
    "    time.sleep(5)\n",
    "\n",
    "    # get tables from player page\n",
    "    dfs = pd.read_html(player_link)\n",
    "    # save df as second table in html table code\n",
    "    df = dfs[0]\n",
    "\n",
    "    # add player name as col\n",
    "    r = requests.get(player_link)\n",
    "    bs = BeautifulSoup(r.text)\n",
    "    name = bs.find(\"div\", {\"id\": \"info\", \"class\": \"players\"}).find(\"h1\").text\n",
    "    name = name.split('\\n')[1]\n",
    "\n",
    "    df['Name'] = name\n",
    "    # add years of experience (use index + 1)\n",
    "    df['Exp'] = df.index + 1\n",
    "\n",
    "    # append individual df to list\n",
    "    appended_data.append(df)\n",
    "\n",
    "# combine all dfs together\n",
    "nba = pd.concat(appended_data)"
   ]
  },
  {
   "cell_type": "code",
   "execution_count": null,
   "metadata": {},
   "outputs": [],
   "source": [
    "# move Exp and Name to be beginning cols\n",
    "first = nba.pop('Exp')\n",
    "nba.insert(0, 'Exp', first)\n",
    "\n",
    "first = nba.pop('Name')\n",
    "nba.insert(0, 'Name', first)\n",
    "\n",
    "# drop all rows where Age is NaN (these are not specific years, could be career or specific team average)\n",
    "nba = nba.dropna(subset=['Age'])\n",
    "\n",
    "# reset index\n",
    "nba = nba.reset_index(drop=True)"
   ]
  },
  {
   "cell_type": "code",
   "execution_count": null,
   "metadata": {},
   "outputs": [],
   "source": [
    "nba.head()"
   ]
  },
  {
   "cell_type": "code",
   "execution_count": null,
   "metadata": {},
   "outputs": [],
   "source": [
    "nba.shape"
   ]
  },
  {
   "cell_type": "code",
   "execution_count": null,
   "metadata": {},
   "outputs": [],
   "source": [
    "# check to see # unique players, should be 859\n",
    "nba.Name.nunique()"
   ]
  },
  {
   "cell_type": "code",
   "execution_count": null,
   "metadata": {},
   "outputs": [],
   "source": [
    "# write nba df to csv\n",
    "nba.to_csv('nbaA.csv')"
   ]
  },
  {
   "cell_type": "code",
   "execution_count": null,
   "metadata": {},
   "outputs": [],
   "source": []
  }
 ],
 "metadata": {
  "kernelspec": {
   "display_name": "Python 3.10.0 64-bit",
   "language": "python",
   "name": "python3"
  },
  "language_info": {
   "codemirror_mode": {
    "name": "ipython",
    "version": 3
   },
   "file_extension": ".py",
   "mimetype": "text/x-python",
   "name": "python",
   "nbconvert_exporter": "python",
   "pygments_lexer": "ipython3",
   "version": "3.10.0"
  },
  "orig_nbformat": 4,
  "vscode": {
   "interpreter": {
    "hash": "aee8b7b246df8f9039afb4144a1f6fd8d2ca17a180786b69acc140d282b71a49"
   }
  }
 },
 "nbformat": 4,
 "nbformat_minor": 2
}
