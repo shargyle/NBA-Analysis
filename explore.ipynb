{
 "cells": [
  {
   "cell_type": "markdown",
   "metadata": {},
   "source": [
    "# EDA of NBA Active Players Data"
   ]
  },
  {
   "cell_type": "markdown",
   "metadata": {},
   "source": [
    "#### Questions:\n",
    "- What is the current player age distribution?\n",
    "- At what age do players tend to \"peak\" statistically?\n",
    "    - This can be broken down into pts, rbs, fg%, etc\n",
    "    - Over time (both age and experience), how does performance change?\n",
    "- What position performs the best? Do certain positions score/rebound/assist more than others?\n",
    "\n",
    "\n",
    "#### Be Careful:\n",
    "- If a player is in the NBA for a long time, they have performed well (and vice versa).\n",
    "- Not every season has the same number of games played... (e.g. COVID year)\n",
    "\n",
    "#### More Data?\n",
    "- Height, weight, wingspan\n",
    "- Right vs. Left shooter\n",
    "- Draft info\n",
    "- Salary\n",
    "- Num injuries"
   ]
  },
  {
   "cell_type": "code",
   "execution_count": 188,
   "metadata": {},
   "outputs": [],
   "source": [
    "# import packages\n",
    "import pandas as pd\n",
    "import numpy as np\n",
    "import matplotlib.pyplot as plt\n",
    "import seaborn as sns"
   ]
  },
  {
   "cell_type": "code",
   "execution_count": 189,
   "metadata": {},
   "outputs": [],
   "source": [
    "df = pd.read_csv('nba.csv').drop(columns = ['Unnamed: 0', 'Unnamed: 0.1'])"
   ]
  },
  {
   "cell_type": "markdown",
   "metadata": {},
   "source": [
    "## Cleaning"
   ]
  },
  {
   "cell_type": "code",
   "execution_count": 190,
   "metadata": {},
   "outputs": [],
   "source": [
    "# convert numerical fields to correct datatype\n",
    "numeric_cols = [col for col in df.columns if col not in ['Name', 'Season', 'Tm', 'Lg', 'Pos']]\n",
    "df[numeric_cols] = df[numeric_cols].apply(pd.to_numeric, errors='coerce')"
   ]
  },
  {
   "cell_type": "code",
   "execution_count": 191,
   "metadata": {},
   "outputs": [],
   "source": [
    "# remove any obs of DID NOT PLAY\n",
    "discard = ['Did Not Play']\n",
    "df = df[df['Pos'].str.contains('|'.join(discard))==False]"
   ]
  },
  {
   "cell_type": "code",
   "execution_count": 192,
   "metadata": {},
   "outputs": [],
   "source": [
    "# remove stats from current season\n",
    "df = df[df['Season'].str.contains('2022-23')==False]"
   ]
  },
  {
   "cell_type": "markdown",
   "metadata": {},
   "source": [
    "## Exploring"
   ]
  },
  {
   "cell_type": "code",
   "execution_count": 193,
   "metadata": {},
   "outputs": [
    {
     "data": {
      "text/html": [
       "<div>\n",
       "<style scoped>\n",
       "    .dataframe tbody tr th:only-of-type {\n",
       "        vertical-align: middle;\n",
       "    }\n",
       "\n",
       "    .dataframe tbody tr th {\n",
       "        vertical-align: top;\n",
       "    }\n",
       "\n",
       "    .dataframe thead th {\n",
       "        text-align: right;\n",
       "    }\n",
       "</style>\n",
       "<table border=\"1\" class=\"dataframe\">\n",
       "  <thead>\n",
       "    <tr style=\"text-align: right;\">\n",
       "      <th></th>\n",
       "      <th>Name</th>\n",
       "      <th>Exp</th>\n",
       "      <th>Season</th>\n",
       "      <th>Age</th>\n",
       "      <th>Tm</th>\n",
       "      <th>Lg</th>\n",
       "      <th>Pos</th>\n",
       "      <th>G</th>\n",
       "      <th>GS</th>\n",
       "      <th>MP</th>\n",
       "      <th>...</th>\n",
       "      <th>FT%</th>\n",
       "      <th>ORB</th>\n",
       "      <th>DRB</th>\n",
       "      <th>TRB</th>\n",
       "      <th>AST</th>\n",
       "      <th>STL</th>\n",
       "      <th>BLK</th>\n",
       "      <th>TOV</th>\n",
       "      <th>PF</th>\n",
       "      <th>PTS</th>\n",
       "    </tr>\n",
       "  </thead>\n",
       "  <tbody>\n",
       "    <tr>\n",
       "      <th>0</th>\n",
       "      <td>Álex Abrines</td>\n",
       "      <td>1</td>\n",
       "      <td>2016-17</td>\n",
       "      <td>23.0</td>\n",
       "      <td>OKC</td>\n",
       "      <td>NBA</td>\n",
       "      <td>SG</td>\n",
       "      <td>68.0</td>\n",
       "      <td>6.0</td>\n",
       "      <td>15.5</td>\n",
       "      <td>...</td>\n",
       "      <td>0.898</td>\n",
       "      <td>0.3</td>\n",
       "      <td>1.0</td>\n",
       "      <td>1.3</td>\n",
       "      <td>0.6</td>\n",
       "      <td>0.5</td>\n",
       "      <td>0.1</td>\n",
       "      <td>0.5</td>\n",
       "      <td>1.7</td>\n",
       "      <td>6.0</td>\n",
       "    </tr>\n",
       "    <tr>\n",
       "      <th>1</th>\n",
       "      <td>Álex Abrines</td>\n",
       "      <td>2</td>\n",
       "      <td>2017-18</td>\n",
       "      <td>24.0</td>\n",
       "      <td>OKC</td>\n",
       "      <td>NBA</td>\n",
       "      <td>SG</td>\n",
       "      <td>75.0</td>\n",
       "      <td>8.0</td>\n",
       "      <td>15.1</td>\n",
       "      <td>...</td>\n",
       "      <td>0.848</td>\n",
       "      <td>0.3</td>\n",
       "      <td>1.2</td>\n",
       "      <td>1.5</td>\n",
       "      <td>0.4</td>\n",
       "      <td>0.5</td>\n",
       "      <td>0.1</td>\n",
       "      <td>0.3</td>\n",
       "      <td>1.7</td>\n",
       "      <td>4.7</td>\n",
       "    </tr>\n",
       "    <tr>\n",
       "      <th>2</th>\n",
       "      <td>Álex Abrines</td>\n",
       "      <td>3</td>\n",
       "      <td>2018-19</td>\n",
       "      <td>25.0</td>\n",
       "      <td>OKC</td>\n",
       "      <td>NBA</td>\n",
       "      <td>SG</td>\n",
       "      <td>31.0</td>\n",
       "      <td>2.0</td>\n",
       "      <td>19.0</td>\n",
       "      <td>...</td>\n",
       "      <td>0.923</td>\n",
       "      <td>0.2</td>\n",
       "      <td>1.4</td>\n",
       "      <td>1.5</td>\n",
       "      <td>0.6</td>\n",
       "      <td>0.5</td>\n",
       "      <td>0.2</td>\n",
       "      <td>0.5</td>\n",
       "      <td>1.7</td>\n",
       "      <td>5.3</td>\n",
       "    </tr>\n",
       "    <tr>\n",
       "      <th>3</th>\n",
       "      <td>Precious Achiuwa</td>\n",
       "      <td>1</td>\n",
       "      <td>2020-21</td>\n",
       "      <td>21.0</td>\n",
       "      <td>MIA</td>\n",
       "      <td>NBA</td>\n",
       "      <td>PF</td>\n",
       "      <td>61.0</td>\n",
       "      <td>4.0</td>\n",
       "      <td>12.1</td>\n",
       "      <td>...</td>\n",
       "      <td>0.509</td>\n",
       "      <td>1.2</td>\n",
       "      <td>2.2</td>\n",
       "      <td>3.4</td>\n",
       "      <td>0.5</td>\n",
       "      <td>0.3</td>\n",
       "      <td>0.5</td>\n",
       "      <td>0.7</td>\n",
       "      <td>1.5</td>\n",
       "      <td>5.0</td>\n",
       "    </tr>\n",
       "    <tr>\n",
       "      <th>4</th>\n",
       "      <td>Precious Achiuwa</td>\n",
       "      <td>2</td>\n",
       "      <td>2021-22</td>\n",
       "      <td>22.0</td>\n",
       "      <td>TOR</td>\n",
       "      <td>NBA</td>\n",
       "      <td>C</td>\n",
       "      <td>73.0</td>\n",
       "      <td>28.0</td>\n",
       "      <td>23.6</td>\n",
       "      <td>...</td>\n",
       "      <td>0.595</td>\n",
       "      <td>2.0</td>\n",
       "      <td>4.5</td>\n",
       "      <td>6.5</td>\n",
       "      <td>1.1</td>\n",
       "      <td>0.5</td>\n",
       "      <td>0.6</td>\n",
       "      <td>1.2</td>\n",
       "      <td>2.1</td>\n",
       "      <td>9.1</td>\n",
       "    </tr>\n",
       "    <tr>\n",
       "      <th>6</th>\n",
       "      <td>Quincy Acy</td>\n",
       "      <td>1</td>\n",
       "      <td>2012-13</td>\n",
       "      <td>22.0</td>\n",
       "      <td>TOR</td>\n",
       "      <td>NBA</td>\n",
       "      <td>PF</td>\n",
       "      <td>29.0</td>\n",
       "      <td>0.0</td>\n",
       "      <td>11.8</td>\n",
       "      <td>...</td>\n",
       "      <td>0.816</td>\n",
       "      <td>1.0</td>\n",
       "      <td>1.6</td>\n",
       "      <td>2.7</td>\n",
       "      <td>0.4</td>\n",
       "      <td>0.4</td>\n",
       "      <td>0.5</td>\n",
       "      <td>0.6</td>\n",
       "      <td>1.8</td>\n",
       "      <td>4.0</td>\n",
       "    </tr>\n",
       "    <tr>\n",
       "      <th>7</th>\n",
       "      <td>Quincy Acy</td>\n",
       "      <td>2</td>\n",
       "      <td>2013-14</td>\n",
       "      <td>23.0</td>\n",
       "      <td>TOT</td>\n",
       "      <td>NBA</td>\n",
       "      <td>SF</td>\n",
       "      <td>63.0</td>\n",
       "      <td>0.0</td>\n",
       "      <td>13.4</td>\n",
       "      <td>...</td>\n",
       "      <td>0.660</td>\n",
       "      <td>1.1</td>\n",
       "      <td>2.3</td>\n",
       "      <td>3.4</td>\n",
       "      <td>0.4</td>\n",
       "      <td>0.4</td>\n",
       "      <td>0.4</td>\n",
       "      <td>0.5</td>\n",
       "      <td>1.9</td>\n",
       "      <td>2.7</td>\n",
       "    </tr>\n",
       "    <tr>\n",
       "      <th>8</th>\n",
       "      <td>Quincy Acy</td>\n",
       "      <td>3</td>\n",
       "      <td>2013-14</td>\n",
       "      <td>23.0</td>\n",
       "      <td>TOR</td>\n",
       "      <td>NBA</td>\n",
       "      <td>SF</td>\n",
       "      <td>7.0</td>\n",
       "      <td>0.0</td>\n",
       "      <td>8.7</td>\n",
       "      <td>...</td>\n",
       "      <td>0.625</td>\n",
       "      <td>0.7</td>\n",
       "      <td>1.4</td>\n",
       "      <td>2.1</td>\n",
       "      <td>0.6</td>\n",
       "      <td>0.6</td>\n",
       "      <td>0.4</td>\n",
       "      <td>0.3</td>\n",
       "      <td>1.1</td>\n",
       "      <td>2.7</td>\n",
       "    </tr>\n",
       "    <tr>\n",
       "      <th>9</th>\n",
       "      <td>Quincy Acy</td>\n",
       "      <td>4</td>\n",
       "      <td>2013-14</td>\n",
       "      <td>23.0</td>\n",
       "      <td>SAC</td>\n",
       "      <td>NBA</td>\n",
       "      <td>SF</td>\n",
       "      <td>56.0</td>\n",
       "      <td>0.0</td>\n",
       "      <td>14.0</td>\n",
       "      <td>...</td>\n",
       "      <td>0.667</td>\n",
       "      <td>1.2</td>\n",
       "      <td>2.4</td>\n",
       "      <td>3.6</td>\n",
       "      <td>0.4</td>\n",
       "      <td>0.3</td>\n",
       "      <td>0.4</td>\n",
       "      <td>0.5</td>\n",
       "      <td>2.0</td>\n",
       "      <td>2.7</td>\n",
       "    </tr>\n",
       "    <tr>\n",
       "      <th>10</th>\n",
       "      <td>Quincy Acy</td>\n",
       "      <td>5</td>\n",
       "      <td>2014-15</td>\n",
       "      <td>24.0</td>\n",
       "      <td>NYK</td>\n",
       "      <td>NBA</td>\n",
       "      <td>PF</td>\n",
       "      <td>68.0</td>\n",
       "      <td>22.0</td>\n",
       "      <td>18.9</td>\n",
       "      <td>...</td>\n",
       "      <td>0.784</td>\n",
       "      <td>1.2</td>\n",
       "      <td>3.3</td>\n",
       "      <td>4.4</td>\n",
       "      <td>1.0</td>\n",
       "      <td>0.4</td>\n",
       "      <td>0.3</td>\n",
       "      <td>0.9</td>\n",
       "      <td>2.2</td>\n",
       "      <td>5.9</td>\n",
       "    </tr>\n",
       "  </tbody>\n",
       "</table>\n",
       "<p>10 rows × 32 columns</p>\n",
       "</div>"
      ],
      "text/plain": [
       "                Name  Exp   Season   Age   Tm   Lg Pos     G    GS    MP  ...  \\\n",
       "0       Álex Abrines    1  2016-17  23.0  OKC  NBA  SG  68.0   6.0  15.5  ...   \n",
       "1       Álex Abrines    2  2017-18  24.0  OKC  NBA  SG  75.0   8.0  15.1  ...   \n",
       "2       Álex Abrines    3  2018-19  25.0  OKC  NBA  SG  31.0   2.0  19.0  ...   \n",
       "3   Precious Achiuwa    1  2020-21  21.0  MIA  NBA  PF  61.0   4.0  12.1  ...   \n",
       "4   Precious Achiuwa    2  2021-22  22.0  TOR  NBA   C  73.0  28.0  23.6  ...   \n",
       "6         Quincy Acy    1  2012-13  22.0  TOR  NBA  PF  29.0   0.0  11.8  ...   \n",
       "7         Quincy Acy    2  2013-14  23.0  TOT  NBA  SF  63.0   0.0  13.4  ...   \n",
       "8         Quincy Acy    3  2013-14  23.0  TOR  NBA  SF   7.0   0.0   8.7  ...   \n",
       "9         Quincy Acy    4  2013-14  23.0  SAC  NBA  SF  56.0   0.0  14.0  ...   \n",
       "10        Quincy Acy    5  2014-15  24.0  NYK  NBA  PF  68.0  22.0  18.9  ...   \n",
       "\n",
       "      FT%  ORB  DRB  TRB  AST  STL  BLK  TOV   PF  PTS  \n",
       "0   0.898  0.3  1.0  1.3  0.6  0.5  0.1  0.5  1.7  6.0  \n",
       "1   0.848  0.3  1.2  1.5  0.4  0.5  0.1  0.3  1.7  4.7  \n",
       "2   0.923  0.2  1.4  1.5  0.6  0.5  0.2  0.5  1.7  5.3  \n",
       "3   0.509  1.2  2.2  3.4  0.5  0.3  0.5  0.7  1.5  5.0  \n",
       "4   0.595  2.0  4.5  6.5  1.1  0.5  0.6  1.2  2.1  9.1  \n",
       "6   0.816  1.0  1.6  2.7  0.4  0.4  0.5  0.6  1.8  4.0  \n",
       "7   0.660  1.1  2.3  3.4  0.4  0.4  0.4  0.5  1.9  2.7  \n",
       "8   0.625  0.7  1.4  2.1  0.6  0.6  0.4  0.3  1.1  2.7  \n",
       "9   0.667  1.2  2.4  3.6  0.4  0.3  0.4  0.5  2.0  2.7  \n",
       "10  0.784  1.2  3.3  4.4  1.0  0.4  0.3  0.9  2.2  5.9  \n",
       "\n",
       "[10 rows x 32 columns]"
      ]
     },
     "execution_count": 193,
     "metadata": {},
     "output_type": "execute_result"
    }
   ],
   "source": [
    "df.head(10)"
   ]
  },
  {
   "cell_type": "code",
   "execution_count": 194,
   "metadata": {},
   "outputs": [],
   "source": [
    "sns.set_style('darkgrid')"
   ]
  },
  {
   "cell_type": "code",
   "execution_count": 195,
   "metadata": {},
   "outputs": [
    {
     "data": {
      "text/plain": [
       "<AxesSubplot:xlabel='Age'>"
      ]
     },
     "execution_count": 195,
     "metadata": {},
     "output_type": "execute_result"
    },
    {
     "data": {
      "image/png": "[encoded data removed]",
      "text/plain": [
       "<Figure size 432x288 with 1 Axes>"
      ]
     },
     "metadata": {},
     "output_type": "display_data"
    }
   ],
   "source": [
    "# age distribution\n",
    "sns.boxplot(data=df, x='Age')"
   ]
  },
  {
   "cell_type": "code",
   "execution_count": 196,
   "metadata": {},
   "outputs": [
    {
     "data": {
      "text/plain": [
       "<AxesSubplot:xlabel='Exp'>"
      ]
     },
     "execution_count": 196,
     "metadata": {},
     "output_type": "execute_result"
    },
    {
     "data": {
      "image/png": "[encoded data removed]",
      "text/plain": [
       "<Figure size 432x288 with 1 Axes>"
      ]
     },
     "metadata": {},
     "output_type": "display_data"
    }
   ],
   "source": [
    "# experience distribution\n",
    "sns.boxplot(data=df, x='Exp')"
   ]
  },
  {
   "cell_type": "code",
   "execution_count": 197,
   "metadata": {},
   "outputs": [
    {
     "data": {
      "text/plain": [
       "39.6"
      ]
     },
     "execution_count": 197,
     "metadata": {},
     "output_type": "execute_result"
    }
   ],
   "source": [
    "df['MP'].max()"
   ]
  },
  {
   "cell_type": "code",
   "execution_count": 198,
   "metadata": {},
   "outputs": [],
   "source": [
    "# reduce df to players with 10+ yrs experience\n",
    "experienced_players = df[df['Exp'] >= 5]['Name'].unique()\n",
    "ten = df[df['Name'].isin(experienced_players)]\n",
    "\n",
    "# reduce df to seasons where player played at least 40 games\n",
    "ten = ten[ten['G'] >= 40]"
   ]
  },
  {
   "cell_type": "code",
   "execution_count": 199,
   "metadata": {},
   "outputs": [],
   "source": [
    "age = ten.groupby('Age')\n",
    "age.mean()\n",
    "\n",
    "age_df = age.mean().reset_index()"
   ]
  },
  {
   "cell_type": "code",
   "execution_count": 200,
   "metadata": {},
   "outputs": [],
   "source": [
    "exp = ten.groupby('Exp')\n",
    "exp.mean()\n",
    "\n",
    "exp_df = exp.mean().reset_index()"
   ]
  },
  {
   "cell_type": "code",
   "execution_count": 201,
   "metadata": {},
   "outputs": [
    {
     "data": {
      "image/png": "[encoded data removed]",
      "text/plain": [
       "<Figure size 1440x720 with 2 Axes>"
      ]
     },
     "metadata": {},
     "output_type": "display_data"
    },
    {
     "data": {
      "image/png": "[encoded data removed]",
      "text/plain": [
       "<Figure size 1440x720 with 2 Axes>"
      ]
     },
     "metadata": {},
     "output_type": "display_data"
    }
   ],
   "source": [
    "columns_of_interest = ['MP', 'PTS', 'TRB', 'AST', 'STL', 'BLK', '3PA', '3P%', 'eFG%']\n",
    "\n",
    "for col in columns_of_interest:\n",
    "    fig, axes = plt.subplots(1,2)\n",
    "\n",
    "    fig.set_figheight(10)\n",
    "    fig.set_figwidth(20)\n",
    "\n",
    "    temp_df = age.describe()[col][['count', 'mean']]\n",
    "    temp_df2 = exp.describe()[col][['count', 'mean']]\n",
    "    sns.scatterplot(ax=axes[0], data=temp_df, x='Age', y='mean', size='count')\n",
    "    sns.scatterplot(ax=axes[1], data=temp_df2, x='Exp', y='mean', size='count')\n",
    "\n",
    "    axes[0].set_ylabel(col)\n",
    "    axes[1].set_ylabel(col)\n",
    "    \n",
    "    axes[0].set_title('Average ' + col + ' by Age')\n",
    "    axes[1].set_title('Average ' + col + ' by Experience')\n",
    "\n",
    "    axes[0].legend(title='Player Count', loc=(1.01,0.01))\n",
    "    axes[1].legend(title='Player Count', loc=(1.01,0.01))\n",
    "\n",
    "    plt.show()"
   ]
  },
  {
   "cell_type": "code",
   "execution_count": null,
   "metadata": {},
   "outputs": [],
   "source": [
    "df.Pos.value_counts()\n",
    "# very few are listed in multiple positions\n",
    "# reduce to PG, SG, SF, PF, C\n",
    "valid_pos = ['PG', 'SG', 'SF', 'PF', 'C']\n",
    "pos = df[df['Pos'].isin(valid_pos)].groupby('Pos')\n",
    "pos.mean().reset_index()\n",
    "\n",
    "# make new pos df\n",
    "pos_df = pos.mean().reset_index()\n",
    "pos_df"
   ]
  },
  {
   "cell_type": "code",
   "execution_count": null,
   "metadata": {},
   "outputs": [],
   "source": [
    "columns_of_interest = ['PTS', 'TRB', 'AST', 'STL', 'BLK', '3PA', '3P%', 'eFG%', 'FT%']\n",
    "\n",
    "for col in columns_of_interest:\n",
    "    sns.barplot(data=pos_df, x='Pos', y=col, order=valid_pos)\n",
    "    plt.title('Average ' + col + ' by Position')\n",
    "    plt.show()"
   ]
  },
  {
   "cell_type": "code",
   "execution_count": null,
   "metadata": {},
   "outputs": [],
   "source": [
    "# average age over time?\n",
    "df.head()"
   ]
  },
  {
   "cell_type": "code",
   "execution_count": null,
   "metadata": {},
   "outputs": [],
   "source": [
    "# let's try performance stats per minute rather than per game\n",
    "df2 = df\n",
    "\n",
    "columns_of_interest = ['PTS', 'TRB', 'AST', 'STL', 'BLK', '3PA']\n",
    "\n",
    "for col in columns_of_interest:\n",
    "    df2[col] = (df2[col] / df2['MP']) * 36"
   ]
  },
  {
   "cell_type": "code",
   "execution_count": null,
   "metadata": {},
   "outputs": [],
   "source": [
    "df2.head()"
   ]
  },
  {
   "cell_type": "code",
   "execution_count": null,
   "metadata": {},
   "outputs": [],
   "source": [
    "# reduce df to players with 10+ yrs experience\n",
    "experienced_players = df2[df2['Exp'] >= 5]['Name'].unique()\n",
    "ten = df2[df2['Name'].isin(experienced_players)]\n",
    "\n",
    "# reduce df to seasons where player played at least 40 games\n",
    "ten = ten[ten['G'] >= 40]"
   ]
  },
  {
   "cell_type": "code",
   "execution_count": null,
   "metadata": {},
   "outputs": [],
   "source": [
    "age = ten.groupby('Age')\n",
    "age.mean()\n",
    "\n",
    "age_df = age.mean().reset_index()"
   ]
  },
  {
   "cell_type": "code",
   "execution_count": null,
   "metadata": {},
   "outputs": [],
   "source": [
    "exp = ten.groupby('Exp')\n",
    "exp.mean()\n",
    "\n",
    "exp_df = exp.mean().reset_index()"
   ]
  },
  {
   "cell_type": "code",
   "execution_count": null,
   "metadata": {},
   "outputs": [],
   "source": [
    "for col in columns_of_interest:\n",
    "    fig, axes = plt.subplots(1,2)\n",
    "\n",
    "    fig.set_figheight(10)\n",
    "    fig.set_figwidth(20)\n",
    "\n",
    "    temp_df = age.describe()[col][['count', 'mean']]\n",
    "    temp_df2 = exp.describe()[col][['count', 'mean']]\n",
    "    sns.scatterplot(ax=axes[0], data=temp_df, x='Age', y='mean', size='count')\n",
    "    sns.scatterplot(ax=axes[1], data=temp_df2, x='Exp', y='mean', size='count')\n",
    "\n",
    "    axes[0].set_ylabel(col)\n",
    "    axes[1].set_ylabel(col)\n",
    "    \n",
    "    axes[0].set_title('Average ' + col + ' by Age')\n",
    "    axes[1].set_title('Average ' + col + ' by Experience')\n",
    "\n",
    "    axes[0].legend(title='Player Count', loc=(1.01,0.01))\n",
    "    axes[1].legend(title='Player Count', loc=(1.01,0.01))\n",
    "\n",
    "    plt.show()"
   ]
  },
  {
   "cell_type": "code",
   "execution_count": null,
   "metadata": {},
   "outputs": [],
   "source": []
  }
 ],
 "metadata": {
  "kernelspec": {
   "display_name": "Python 3.10.0 64-bit",
   "language": "python",
   "name": "python3"
  },
  "language_info": {
   "codemirror_mode": {
    "name": "ipython",
    "version": 3
   },
   "file_extension": ".py",
   "mimetype": "text/x-python",
   "name": "python",
   "nbconvert_exporter": "python",
   "pygments_lexer": "ipython3",
   "version": "3.10.0"
  },
  "orig_nbformat": 4,
  "vscode": {
   "interpreter": {
    "hash": "aee8b7b246df8f9039afb4144a1f6fd8d2ca17a180786b69acc140d282b71a49"
   }
  }
 },
 "nbformat": 4,
 "nbformat_minor": 2
}
