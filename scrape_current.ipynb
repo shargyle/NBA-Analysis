{
 "cells": [
  {
   "cell_type": "code",
   "execution_count": 74,
   "metadata": {},
   "outputs": [],
   "source": [
    "import pandas as pd\n",
    "import requests\n",
    "from bs4 import BeautifulSoup\n",
    "from tqdm import tqdm\n",
    "import time"
   ]
  },
  {
   "cell_type": "code",
   "execution_count": 86,
   "metadata": {},
   "outputs": [
    {
     "data": {
      "text/plain": [
       "True"
      ]
     },
     "execution_count": 86,
     "metadata": {},
     "output_type": "execute_result"
    }
   ],
   "source": [
    "# get list of urls for players stats\n",
    "players_url = 'https://www.basketball-reference.com/players/'\n",
    "r = requests.get(players_url)\n",
    "bs = BeautifulSoup(r.text)\n",
    "r.ok"
   ]
  },
  {
   "cell_type": "code",
   "execution_count": 87,
   "metadata": {},
   "outputs": [
    {
     "name": "stdout",
     "output_type": "stream",
     "text": [
      "1\n"
     ]
    }
   ],
   "source": [
    "# get all last name directory links\n",
    "    # links found in 'ul' tag with 'page_index' class\n",
    "    # directory links will have a text with length 1 (e.g. \"A\")\n",
    "    # base url must be added to directory path\n",
    "letter_links = bs.find('ul', {'class': 'page_index'}).find_all('a')\n",
    "# letter_links = ['https://www.basketball-reference.com' + link.get('href') for link in letter_links if len(link.text) == 1]\n",
    "letter_links = ['https://www.basketball-reference.com' + link.get('href') for link in letter_links if link.text == 'D']\n",
    "print(len(letter_links))"
   ]
  },
  {
   "cell_type": "code",
   "execution_count": 88,
   "metadata": {},
   "outputs": [
    {
     "name": "stdout",
     "output_type": "stream",
     "text": [
      "43\n"
     ]
    }
   ],
   "source": [
    "# get all player links from last name directory links\n",
    "\n",
    "# initialize empty list of player links\n",
    "player_links = []\n",
    "\n",
    "# player links found in 'th' tag w/specific scope and class\n",
    "# active players with 'strong' tag\n",
    "# add base url\n",
    "for letter_link in letter_links:\n",
    "    time.sleep(2.5)\n",
    "    r = requests.get(letter_link)\n",
    "    bs = BeautifulSoup(r.text)\n",
    "    player_tags = bs.find('tbody').find_all('th', {'scope': 'row', 'class': 'left'})\n",
    "    player_links += ['https://www.basketball-reference.com' + player_tag.find('a').get('href') for player_tag in player_tags if player_tag.find('strong')]\n",
    "\n",
    "print(len(player_links))"
   ]
  },
  {
   "cell_type": "code",
   "execution_count": 89,
   "metadata": {},
   "outputs": [
    {
     "name": "stderr",
     "output_type": "stream",
     "text": [
      "100%|██████████| 43/43 [04:06<00:00,  5.73s/it]\n"
     ]
    }
   ],
   "source": [
    "# build dataframe of all players' stats by season\n",
    "\n",
    "# initialize empty list to which dfs will be appended\n",
    "appended_data = []\n",
    "\n",
    "for player_link in tqdm(player_links):\n",
    "\n",
    "    time.sleep(5)\n",
    "\n",
    "    # get tables from player page\n",
    "    dfs = pd.read_html(player_link)\n",
    "    # save df as second table in html table code\n",
    "    df = dfs[0]\n",
    "\n",
    "    # add player name as col\n",
    "    r = requests.get(player_link)\n",
    "    bs = BeautifulSoup(r.text)\n",
    "    name = bs.find(\"div\", {\"id\": \"info\", \"class\": \"players\"}).find(\"h1\").text\n",
    "    name = name.split('\\n')[1]\n",
    "\n",
    "    df['Name'] = name\n",
    "    # add years of experience (use index + 1)\n",
    "    df['Exp'] = df.index + 1\n",
    "\n",
    "    # append individual df to list\n",
    "    appended_data.append(df)\n",
    "\n",
    "# combine all dfs together\n",
    "nba = pd.concat(appended_data)"
   ]
  },
  {
   "cell_type": "code",
   "execution_count": 90,
   "metadata": {},
   "outputs": [],
   "source": [
    "# move Exp and Name to be beginning cols\n",
    "first = nba.pop('Exp')\n",
    "nba.insert(0, 'Exp', first)\n",
    "\n",
    "first = nba.pop('Name')\n",
    "nba.insert(0, 'Name', first)\n",
    "\n",
    "# drop all rows where Age is NaN (these are not specific years, could be career or specific team average)\n",
    "nba = nba.dropna(subset=['Age'])\n",
    "\n",
    "# reset index\n",
    "nba = nba.reset_index(drop=True)"
   ]
  },
  {
   "cell_type": "code",
   "execution_count": 91,
   "metadata": {},
   "outputs": [
    {
     "data": {
      "text/html": [
       "<div>\n",
       "<style scoped>\n",
       "    .dataframe tbody tr th:only-of-type {\n",
       "        vertical-align: middle;\n",
       "    }\n",
       "\n",
       "    .dataframe tbody tr th {\n",
       "        vertical-align: top;\n",
       "    }\n",
       "\n",
       "    .dataframe thead th {\n",
       "        text-align: right;\n",
       "    }\n",
       "</style>\n",
       "<table border=\"1\" class=\"dataframe\">\n",
       "  <thead>\n",
       "    <tr style=\"text-align: right;\">\n",
       "      <th></th>\n",
       "      <th>Name</th>\n",
       "      <th>Exp</th>\n",
       "      <th>Season</th>\n",
       "      <th>Age</th>\n",
       "      <th>Tm</th>\n",
       "      <th>Lg</th>\n",
       "      <th>Pos</th>\n",
       "      <th>G</th>\n",
       "      <th>GS</th>\n",
       "      <th>MP</th>\n",
       "      <th>...</th>\n",
       "      <th>FT%</th>\n",
       "      <th>ORB</th>\n",
       "      <th>DRB</th>\n",
       "      <th>TRB</th>\n",
       "      <th>AST</th>\n",
       "      <th>STL</th>\n",
       "      <th>BLK</th>\n",
       "      <th>TOV</th>\n",
       "      <th>PF</th>\n",
       "      <th>PTS</th>\n",
       "    </tr>\n",
       "  </thead>\n",
       "  <tbody>\n",
       "    <tr>\n",
       "      <th>0</th>\n",
       "      <td>Dyson Daniels</td>\n",
       "      <td>1</td>\n",
       "      <td>2022-23</td>\n",
       "      <td>19.0</td>\n",
       "      <td>NOP</td>\n",
       "      <td>NBA</td>\n",
       "      <td>PG</td>\n",
       "      <td>7</td>\n",
       "      <td>0</td>\n",
       "      <td>11.9</td>\n",
       "      <td>...</td>\n",
       "      <td>0.667</td>\n",
       "      <td>0.7</td>\n",
       "      <td>2.7</td>\n",
       "      <td>3.4</td>\n",
       "      <td>1.3</td>\n",
       "      <td>0.6</td>\n",
       "      <td>0.6</td>\n",
       "      <td>0.4</td>\n",
       "      <td>1.4</td>\n",
       "      <td>4.0</td>\n",
       "    </tr>\n",
       "    <tr>\n",
       "      <th>1</th>\n",
       "      <td>Troy Daniels</td>\n",
       "      <td>1</td>\n",
       "      <td>2013-14</td>\n",
       "      <td>22.0</td>\n",
       "      <td>HOU</td>\n",
       "      <td>NBA</td>\n",
       "      <td>SG</td>\n",
       "      <td>5.0</td>\n",
       "      <td>1.0</td>\n",
       "      <td>15.0</td>\n",
       "      <td>...</td>\n",
       "      <td>NaN</td>\n",
       "      <td>0.0</td>\n",
       "      <td>0.8</td>\n",
       "      <td>0.8</td>\n",
       "      <td>1.0</td>\n",
       "      <td>0.0</td>\n",
       "      <td>0.0</td>\n",
       "      <td>0.6</td>\n",
       "      <td>1.2</td>\n",
       "      <td>8.4</td>\n",
       "    </tr>\n",
       "    <tr>\n",
       "      <th>2</th>\n",
       "      <td>Troy Daniels</td>\n",
       "      <td>2</td>\n",
       "      <td>2014-15</td>\n",
       "      <td>23.0</td>\n",
       "      <td>TOT</td>\n",
       "      <td>NBA</td>\n",
       "      <td>SG</td>\n",
       "      <td>47.0</td>\n",
       "      <td>0.0</td>\n",
       "      <td>8.4</td>\n",
       "      <td>...</td>\n",
       "      <td>0.846</td>\n",
       "      <td>0.2</td>\n",
       "      <td>0.5</td>\n",
       "      <td>0.7</td>\n",
       "      <td>0.5</td>\n",
       "      <td>0.1</td>\n",
       "      <td>0.0</td>\n",
       "      <td>0.4</td>\n",
       "      <td>0.9</td>\n",
       "      <td>3.7</td>\n",
       "    </tr>\n",
       "    <tr>\n",
       "      <th>3</th>\n",
       "      <td>Troy Daniels</td>\n",
       "      <td>3</td>\n",
       "      <td>2014-15</td>\n",
       "      <td>23.0</td>\n",
       "      <td>HOU</td>\n",
       "      <td>NBA</td>\n",
       "      <td>SG</td>\n",
       "      <td>17.0</td>\n",
       "      <td>0.0</td>\n",
       "      <td>6.4</td>\n",
       "      <td>...</td>\n",
       "      <td>0.75</td>\n",
       "      <td>0.0</td>\n",
       "      <td>0.4</td>\n",
       "      <td>0.4</td>\n",
       "      <td>0.2</td>\n",
       "      <td>0.0</td>\n",
       "      <td>0.0</td>\n",
       "      <td>0.3</td>\n",
       "      <td>0.8</td>\n",
       "      <td>2.7</td>\n",
       "    </tr>\n",
       "    <tr>\n",
       "      <th>4</th>\n",
       "      <td>Troy Daniels</td>\n",
       "      <td>4</td>\n",
       "      <td>2014-15</td>\n",
       "      <td>23.0</td>\n",
       "      <td>MIN</td>\n",
       "      <td>NBA</td>\n",
       "      <td>SG</td>\n",
       "      <td>19.0</td>\n",
       "      <td>0.0</td>\n",
       "      <td>8.1</td>\n",
       "      <td>...</td>\n",
       "      <td>1.0</td>\n",
       "      <td>0.3</td>\n",
       "      <td>0.7</td>\n",
       "      <td>1.0</td>\n",
       "      <td>0.7</td>\n",
       "      <td>0.2</td>\n",
       "      <td>0.0</td>\n",
       "      <td>0.4</td>\n",
       "      <td>0.7</td>\n",
       "      <td>2.8</td>\n",
       "    </tr>\n",
       "  </tbody>\n",
       "</table>\n",
       "<p>5 rows × 32 columns</p>\n",
       "</div>"
      ],
      "text/plain": [
       "            Name  Exp   Season   Age   Tm   Lg Pos     G   GS    MP  ...  \\\n",
       "0  Dyson Daniels    1  2022-23  19.0  NOP  NBA  PG     7    0  11.9  ...   \n",
       "1   Troy Daniels    1  2013-14  22.0  HOU  NBA  SG   5.0  1.0  15.0  ...   \n",
       "2   Troy Daniels    2  2014-15  23.0  TOT  NBA  SG  47.0  0.0   8.4  ...   \n",
       "3   Troy Daniels    3  2014-15  23.0  HOU  NBA  SG  17.0  0.0   6.4  ...   \n",
       "4   Troy Daniels    4  2014-15  23.0  MIN  NBA  SG  19.0  0.0   8.1  ...   \n",
       "\n",
       "     FT%  ORB  DRB  TRB  AST  STL  BLK  TOV   PF  PTS  \n",
       "0  0.667  0.7  2.7  3.4  1.3  0.6  0.6  0.4  1.4  4.0  \n",
       "1    NaN  0.0  0.8  0.8  1.0  0.0  0.0  0.6  1.2  8.4  \n",
       "2  0.846  0.2  0.5  0.7  0.5  0.1  0.0  0.4  0.9  3.7  \n",
       "3   0.75  0.0  0.4  0.4  0.2  0.0  0.0  0.3  0.8  2.7  \n",
       "4    1.0  0.3  0.7  1.0  0.7  0.2  0.0  0.4  0.7  2.8  \n",
       "\n",
       "[5 rows x 32 columns]"
      ]
     },
     "execution_count": 91,
     "metadata": {},
     "output_type": "execute_result"
    }
   ],
   "source": [
    "nba.head()"
   ]
  },
  {
   "cell_type": "code",
   "execution_count": 92,
   "metadata": {},
   "outputs": [
    {
     "data": {
      "text/plain": [
       "(260, 32)"
      ]
     },
     "execution_count": 92,
     "metadata": {},
     "output_type": "execute_result"
    }
   ],
   "source": [
    "nba.shape"
   ]
  },
  {
   "cell_type": "code",
   "execution_count": 93,
   "metadata": {},
   "outputs": [
    {
     "data": {
      "text/plain": [
       "43"
      ]
     },
     "execution_count": 93,
     "metadata": {},
     "output_type": "execute_result"
    }
   ],
   "source": [
    "# check to see # unique players, should be 859\n",
    "nba.Name.nunique()"
   ]
  },
  {
   "cell_type": "code",
   "execution_count": 94,
   "metadata": {},
   "outputs": [],
   "source": [
    "# read csv's, concatatenate, write out\n",
    "all = pd.read_csv('nba.csv')\n",
    "\n",
    "nba = pd.concat([all, nba])\n",
    "\n",
    "nba.to_csv('nba.csv')"
   ]
  },
  {
   "cell_type": "code",
   "execution_count": null,
   "metadata": {},
   "outputs": [],
   "source": [
    "# 11-18\n",
    "# A-D, next up: E"
   ]
  }
 ],
 "metadata": {
  "kernelspec": {
   "display_name": "Python 3.10.0 64-bit",
   "language": "python",
   "name": "python3"
  },
  "language_info": {
   "codemirror_mode": {
    "name": "ipython",
    "version": 3
   },
   "file_extension": ".py",
   "mimetype": "text/x-python",
   "name": "python",
   "nbconvert_exporter": "python",
   "pygments_lexer": "ipython3",
   "version": "3.10.0"
  },
  "orig_nbformat": 4,
  "vscode": {
   "interpreter": {
    "hash": "aee8b7b246df8f9039afb4144a1f6fd8d2ca17a180786b69acc140d282b71a49"
   }
  }
 },
 "nbformat": 4,
 "nbformat_minor": 2
}
