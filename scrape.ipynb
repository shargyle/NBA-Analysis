{
 "cells": [
  {
   "cell_type": "code",
   "execution_count": 131,
   "metadata": {},
   "outputs": [],
   "source": [
    "import pandas as pd\n",
    "import requests\n",
    "from bs4 import BeautifulSoup\n",
    "from tqdm import tqdm"
   ]
  },
  {
   "cell_type": "code",
   "execution_count": 132,
   "metadata": {},
   "outputs": [],
   "source": [
    "# get list of urls for players stats\n",
    "players_url = 'https://www.basketball-reference.com/players/'\n",
    "r = requests.get(players_url)\n",
    "bs = BeautifulSoup(r.text)"
   ]
  },
  {
   "cell_type": "code",
   "execution_count": 133,
   "metadata": {},
   "outputs": [
    {
     "name": "stdout",
     "output_type": "stream",
     "text": [
      "25\n"
     ]
    }
   ],
   "source": [
    "# get all letter links\n",
    "letter_links = bs.find('ul', {'class': 'page_index'}).find_all('a')\n",
    "letter_links = ['https://www.basketball-reference.com' + link.get('href') for link in letter_links if len(link.text) == 1]\n",
    "print(len(letter_links))"
   ]
  },
  {
   "cell_type": "code",
   "execution_count": 134,
   "metadata": {},
   "outputs": [
    {
     "name": "stdout",
     "output_type": "stream",
     "text": [
      "859\n"
     ]
    }
   ],
   "source": [
    "# get all player links from letter links\n",
    "player_links = []\n",
    "\n",
    "for letter_link in letter_links:\n",
    "    r = requests.get(letter_link)\n",
    "    bs = BeautifulSoup(r.text)\n",
    "    player_tags = bs.find('tbody').find_all('th', {'scope': 'row', 'class': 'left'})\n",
    "    player_links += ['https://www.basketball-reference.com' + player_tag.find('a').get('href') for player_tag in player_tags if player_tag.find('strong')]\n",
    "\n",
    "print(len(player_links))"
   ]
  },
  {
   "cell_type": "code",
   "execution_count": 135,
   "metadata": {},
   "outputs": [
    {
     "name": "stderr",
     "output_type": "stream",
     "text": [
      "100%|██████████| 859/859 [07:48<00:00,  1.83it/s]\n"
     ]
    }
   ],
   "source": [
    "# build dataframe of all players' stats by season\n",
    "\n",
    "appended_data = []\n",
    "\n",
    "for player_link in tqdm(player_links):\n",
    "    dfs = pd.read_html(player_link)\n",
    "    df = dfs[1]\n",
    "\n",
    "    r = requests.get(player_link)\n",
    "    bs = BeautifulSoup(r.text)\n",
    "    name = bs.find(\"div\", {\"id\": \"info\", \"class\": \"players\"}).find(\"h1\").text\n",
    "    name = name.split('\\n')[1]\n",
    "\n",
    "    df['Name'] = name\n",
    "    df['Exp'] = df.index + 1\n",
    "\n",
    "    appended_data.append(df)\n",
    "\n",
    "nba = pd.concat(appended_data)"
   ]
  },
  {
   "cell_type": "code",
   "execution_count": 145,
   "metadata": {},
   "outputs": [],
   "source": [
    "first = nba.pop('Exp')\n",
    "nba.insert(0, 'Exp', first)\n",
    "\n",
    "first = nba.pop('Name')\n",
    "nba.insert(0, 'Name', first)\n",
    "\n",
    "nba = nba.dropna(subset=['Age'])\n",
    "\n",
    "nba = nba.reset_index(drop=True)"
   ]
  },
  {
   "cell_type": "code",
   "execution_count": 146,
   "metadata": {},
   "outputs": [
    {
     "data": {
      "text/html": [
       "<div>\n",
       "<style scoped>\n",
       "    .dataframe tbody tr th:only-of-type {\n",
       "        vertical-align: middle;\n",
       "    }\n",
       "\n",
       "    .dataframe tbody tr th {\n",
       "        vertical-align: top;\n",
       "    }\n",
       "\n",
       "    .dataframe thead th {\n",
       "        text-align: right;\n",
       "    }\n",
       "</style>\n",
       "<table border=\"1\" class=\"dataframe\">\n",
       "  <thead>\n",
       "    <tr style=\"text-align: right;\">\n",
       "      <th></th>\n",
       "      <th>Name</th>\n",
       "      <th>Exp</th>\n",
       "      <th>Season</th>\n",
       "      <th>Age</th>\n",
       "      <th>Tm</th>\n",
       "      <th>Lg</th>\n",
       "      <th>Pos</th>\n",
       "      <th>G</th>\n",
       "      <th>GS</th>\n",
       "      <th>MP</th>\n",
       "      <th>...</th>\n",
       "      <th>FT%</th>\n",
       "      <th>ORB</th>\n",
       "      <th>DRB</th>\n",
       "      <th>TRB</th>\n",
       "      <th>AST</th>\n",
       "      <th>STL</th>\n",
       "      <th>BLK</th>\n",
       "      <th>TOV</th>\n",
       "      <th>PF</th>\n",
       "      <th>PTS</th>\n",
       "    </tr>\n",
       "  </thead>\n",
       "  <tbody>\n",
       "    <tr>\n",
       "      <th>0</th>\n",
       "      <td>Álex Abrines</td>\n",
       "      <td>1</td>\n",
       "      <td>2016-17</td>\n",
       "      <td>23.0</td>\n",
       "      <td>OKC</td>\n",
       "      <td>NBA</td>\n",
       "      <td>SG</td>\n",
       "      <td>5</td>\n",
       "      <td>0</td>\n",
       "      <td>16.0</td>\n",
       "      <td>...</td>\n",
       "      <td>0.75</td>\n",
       "      <td>0.4</td>\n",
       "      <td>1.4</td>\n",
       "      <td>1.8</td>\n",
       "      <td>0.8</td>\n",
       "      <td>0.0</td>\n",
       "      <td>0.0</td>\n",
       "      <td>0.0</td>\n",
       "      <td>1.6</td>\n",
       "      <td>4.8</td>\n",
       "    </tr>\n",
       "    <tr>\n",
       "      <th>1</th>\n",
       "      <td>Álex Abrines</td>\n",
       "      <td>2</td>\n",
       "      <td>2017-18</td>\n",
       "      <td>24.0</td>\n",
       "      <td>OKC</td>\n",
       "      <td>NBA</td>\n",
       "      <td>SG</td>\n",
       "      <td>6</td>\n",
       "      <td>0</td>\n",
       "      <td>18.3</td>\n",
       "      <td>...</td>\n",
       "      <td>1.0</td>\n",
       "      <td>0.5</td>\n",
       "      <td>2.2</td>\n",
       "      <td>2.7</td>\n",
       "      <td>0.3</td>\n",
       "      <td>0.8</td>\n",
       "      <td>0.3</td>\n",
       "      <td>0.2</td>\n",
       "      <td>1.8</td>\n",
       "      <td>4.0</td>\n",
       "    </tr>\n",
       "    <tr>\n",
       "      <th>2</th>\n",
       "      <td>Precious Achiuwa</td>\n",
       "      <td>1</td>\n",
       "      <td>2020-21</td>\n",
       "      <td>21.0</td>\n",
       "      <td>MIA</td>\n",
       "      <td>NBA</td>\n",
       "      <td>PF</td>\n",
       "      <td>61.0</td>\n",
       "      <td>4.0</td>\n",
       "      <td>12.1</td>\n",
       "      <td>...</td>\n",
       "      <td>0.509</td>\n",
       "      <td>1.2</td>\n",
       "      <td>2.2</td>\n",
       "      <td>3.4</td>\n",
       "      <td>0.5</td>\n",
       "      <td>0.3</td>\n",
       "      <td>0.5</td>\n",
       "      <td>0.7</td>\n",
       "      <td>1.5</td>\n",
       "      <td>5.0</td>\n",
       "    </tr>\n",
       "    <tr>\n",
       "      <th>3</th>\n",
       "      <td>Precious Achiuwa</td>\n",
       "      <td>2</td>\n",
       "      <td>2021-22</td>\n",
       "      <td>22.0</td>\n",
       "      <td>TOR</td>\n",
       "      <td>NBA</td>\n",
       "      <td>C</td>\n",
       "      <td>73.0</td>\n",
       "      <td>28.0</td>\n",
       "      <td>23.6</td>\n",
       "      <td>...</td>\n",
       "      <td>0.595</td>\n",
       "      <td>2.0</td>\n",
       "      <td>4.5</td>\n",
       "      <td>6.5</td>\n",
       "      <td>1.1</td>\n",
       "      <td>0.5</td>\n",
       "      <td>0.6</td>\n",
       "      <td>1.2</td>\n",
       "      <td>2.1</td>\n",
       "      <td>9.1</td>\n",
       "    </tr>\n",
       "    <tr>\n",
       "      <th>4</th>\n",
       "      <td>Precious Achiuwa</td>\n",
       "      <td>3</td>\n",
       "      <td>2022-23</td>\n",
       "      <td>23.0</td>\n",
       "      <td>TOR</td>\n",
       "      <td>NBA</td>\n",
       "      <td>PF</td>\n",
       "      <td>1.0</td>\n",
       "      <td>0.0</td>\n",
       "      <td>18.0</td>\n",
       "      <td>...</td>\n",
       "      <td>0.5</td>\n",
       "      <td>1.0</td>\n",
       "      <td>4.0</td>\n",
       "      <td>5.0</td>\n",
       "      <td>0.0</td>\n",
       "      <td>0.0</td>\n",
       "      <td>0.0</td>\n",
       "      <td>0.0</td>\n",
       "      <td>1.0</td>\n",
       "      <td>10.0</td>\n",
       "    </tr>\n",
       "  </tbody>\n",
       "</table>\n",
       "<p>5 rows × 32 columns</p>\n",
       "</div>"
      ],
      "text/plain": [
       "               Name  Exp   Season   Age   Tm   Lg Pos     G    GS    MP  ...  \\\n",
       "0      Álex Abrines    1  2016-17  23.0  OKC  NBA  SG     5     0  16.0  ...   \n",
       "1      Álex Abrines    2  2017-18  24.0  OKC  NBA  SG     6     0  18.3  ...   \n",
       "2  Precious Achiuwa    1  2020-21  21.0  MIA  NBA  PF  61.0   4.0  12.1  ...   \n",
       "3  Precious Achiuwa    2  2021-22  22.0  TOR  NBA   C  73.0  28.0  23.6  ...   \n",
       "4  Precious Achiuwa    3  2022-23  23.0  TOR  NBA  PF   1.0   0.0  18.0  ...   \n",
       "\n",
       "     FT%  ORB  DRB  TRB  AST  STL  BLK  TOV   PF   PTS  \n",
       "0   0.75  0.4  1.4  1.8  0.8  0.0  0.0  0.0  1.6   4.8  \n",
       "1    1.0  0.5  2.2  2.7  0.3  0.8  0.3  0.2  1.8   4.0  \n",
       "2  0.509  1.2  2.2  3.4  0.5  0.3  0.5  0.7  1.5   5.0  \n",
       "3  0.595  2.0  4.5  6.5  1.1  0.5  0.6  1.2  2.1   9.1  \n",
       "4    0.5  1.0  4.0  5.0  0.0  0.0  0.0  0.0  1.0  10.0  \n",
       "\n",
       "[5 rows x 32 columns]"
      ]
     },
     "execution_count": 146,
     "metadata": {},
     "output_type": "execute_result"
    }
   ],
   "source": [
    "nba.head()"
   ]
  },
  {
   "cell_type": "code",
   "execution_count": 148,
   "metadata": {},
   "outputs": [
    {
     "data": {
      "text/plain": [
       "(4637, 32)"
      ]
     },
     "execution_count": 148,
     "metadata": {},
     "output_type": "execute_result"
    }
   ],
   "source": [
    "nba.shape"
   ]
  },
  {
   "cell_type": "code",
   "execution_count": 150,
   "metadata": {},
   "outputs": [
    {
     "data": {
      "text/plain": [
       "859"
      ]
     },
     "execution_count": 150,
     "metadata": {},
     "output_type": "execute_result"
    }
   ],
   "source": [
    "nba.Name.nunique()"
   ]
  }
 ],
 "metadata": {
  "kernelspec": {
   "display_name": "Python 3.10.0 64-bit",
   "language": "python",
   "name": "python3"
  },
  "language_info": {
   "codemirror_mode": {
    "name": "ipython",
    "version": 3
   },
   "file_extension": ".py",
   "mimetype": "text/x-python",
   "name": "python",
   "nbconvert_exporter": "python",
   "pygments_lexer": "ipython3",
   "version": "3.10.0"
  },
  "orig_nbformat": 4,
  "vscode": {
   "interpreter": {
    "hash": "aee8b7b246df8f9039afb4144a1f6fd8d2ca17a180786b69acc140d282b71a49"
   }
  }
 },
 "nbformat": 4,
 "nbformat_minor": 2
}
